{
  "nbformat": 4,
  "nbformat_minor": 0,
  "metadata": {
    "kernelspec": {
      "display_name": "Python 3",
      "language": "python",
      "name": "python3"
    },
    "language_info": {
      "codemirror_mode": {
        "name": "ipython",
        "version": 3
      },
      "file_extension": ".py",
      "mimetype": "text/x-python",
      "name": "python",
      "nbconvert_exporter": "python",
      "pygments_lexer": "ipython3",
      "version": "3.6.2"
    },
    "colab": {
      "name": "06-NLP-Basics-Assessment.ipynb",
      "provenance": [],
      "include_colab_link": true
    }
  },
  "cells": [
    {
      "cell_type": "markdown",
      "metadata": {
        "id": "view-in-github",
        "colab_type": "text"
      },
      "source": [
        "<a href=\"https://colab.research.google.com/github/nasirskhan/udemy-nlp/blob/master/06_NLP_Basics_Assessment.ipynb\" target=\"_parent\"><img src=\"https://colab.research.google.com/assets/colab-badge.svg\" alt=\"Open In Colab\"/></a>"
      ]
    },
    {
      "cell_type": "markdown",
      "metadata": {
        "id": "eYlhqH4RLi0b",
        "colab_type": "text"
      },
      "source": [
        "___\n",
        "\n",
        "<a href='http://www.pieriandata.com'> <img src='../Pierian_Data_Logo.png' /></a>\n",
        "___"
      ]
    },
    {
      "cell_type": "markdown",
      "metadata": {
        "id": "N6KfKXzpLi0e",
        "colab_type": "text"
      },
      "source": [
        "# NLP Basics Assessment"
      ]
    },
    {
      "cell_type": "markdown",
      "metadata": {
        "id": "hcj_XzUSLi0f",
        "colab_type": "text"
      },
      "source": [
        "For this assessment we'll be using the short story [_An Occurrence at Owl Creek Bridge_](https://en.wikipedia.org/wiki/An_Occurrence_at_Owl_Creek_Bridge) by Ambrose Bierce (1890). <br>The story is in the public domain; the text file was obtained from [Project Gutenberg](https://www.gutenberg.org/ebooks/375.txt.utf-8)."
      ]
    },
    {
      "cell_type": "code",
      "metadata": {
        "id": "7LqFJEXPLi0g",
        "colab_type": "code",
        "colab": {}
      },
      "source": [
        "# RUN THIS CELL to perform standard imports:\n",
        "import spacy\n",
        "nlp = spacy.load('en_core_web_sm')"
      ],
      "execution_count": 0,
      "outputs": []
    },
    {
      "cell_type": "markdown",
      "metadata": {
        "id": "WoopsWWdLi0l",
        "colab_type": "text"
      },
      "source": [
        "**1. Create a Doc object from the file `owlcreek.txt`**<br>\n",
        "> HINT: Use `with open('../TextFiles/owlcreek.txt') as f:`"
      ]
    },
    {
      "cell_type": "code",
      "metadata": {
        "id": "n621al3VLi0m",
        "colab_type": "code",
        "colab": {}
      },
      "source": [
        "# Enter your code here:\n",
        "\n"
      ],
      "execution_count": 0,
      "outputs": []
    },
    {
      "cell_type": "code",
      "metadata": {
        "id": "MemowLB0Li0q",
        "colab_type": "code",
        "colab": {},
        "outputId": "09f02445-5e4f-419c-aa14-eb2d39dde8db"
      },
      "source": [
        "# Run this cell to verify it worked:\n",
        "\n",
        "doc[:36]"
      ],
      "execution_count": 0,
      "outputs": [
        {
          "output_type": "execute_result",
          "data": {
            "text/plain": [
              "AN OCCURRENCE AT OWL CREEK BRIDGE\n",
              "\n",
              "by Ambrose Bierce\n",
              "\n",
              "I\n",
              "\n",
              "A man stood upon a railroad bridge in northern Alabama, looking down\n",
              "into the swift water twenty feet below.  "
            ]
          },
          "metadata": {
            "tags": []
          },
          "execution_count": 3
        }
      ]
    },
    {
      "cell_type": "markdown",
      "metadata": {
        "id": "kSH3X6QNLi0w",
        "colab_type": "text"
      },
      "source": [
        "**2. How many tokens are contained in the file?**"
      ]
    },
    {
      "cell_type": "code",
      "metadata": {
        "id": "K9f9-vKPLi0x",
        "colab_type": "code",
        "colab": {},
        "outputId": "6b931168-9538-47d3-c5c2-a82fd0a88664"
      },
      "source": [
        ""
      ],
      "execution_count": 0,
      "outputs": [
        {
          "output_type": "execute_result",
          "data": {
            "text/plain": [
              "4833"
            ]
          },
          "metadata": {
            "tags": []
          },
          "execution_count": 4
        }
      ]
    },
    {
      "cell_type": "markdown",
      "metadata": {
        "id": "jfnbfy6WLi02",
        "colab_type": "text"
      },
      "source": [
        "**3. How many sentences are contained in the file?**<br>HINT: You'll want to build a list first!"
      ]
    },
    {
      "cell_type": "code",
      "metadata": {
        "id": "a99lDT9ILi03",
        "colab_type": "code",
        "colab": {},
        "outputId": "c909f132-7211-40b2-cbc6-abd512995f1b"
      },
      "source": [
        "\n"
      ],
      "execution_count": 0,
      "outputs": [
        {
          "output_type": "execute_result",
          "data": {
            "text/plain": [
              "211"
            ]
          },
          "metadata": {
            "tags": []
          },
          "execution_count": 5
        }
      ]
    },
    {
      "cell_type": "markdown",
      "metadata": {
        "id": "tN0D4iroLi07",
        "colab_type": "text"
      },
      "source": [
        "**4. Print the second sentence in the document**<br> HINT: Indexing starts at zero, and the title counts as the first sentence."
      ]
    },
    {
      "cell_type": "code",
      "metadata": {
        "id": "rm3cHuR2Li08",
        "colab_type": "code",
        "colab": {},
        "outputId": "5184c5b9-372a-46e6-dfff-c00b95efebdb"
      },
      "source": [
        ""
      ],
      "execution_count": 0,
      "outputs": [
        {
          "output_type": "stream",
          "text": [
            "A man stood upon a railroad bridge in northern Alabama, looking down\n",
            "into the swift water twenty feet below.  \n"
          ],
          "name": "stdout"
        }
      ]
    },
    {
      "cell_type": "markdown",
      "metadata": {
        "id": "my8p-pmFLi1A",
        "colab_type": "text"
      },
      "source": [
        "** 5. For each token in the sentence above, print its `text`, `POS` tag, `dep` tag and `lemma`<br>\n",
        "CHALLENGE: Have values line up in columns in the print output.**"
      ]
    },
    {
      "cell_type": "code",
      "metadata": {
        "id": "sqGleDJxLi1B",
        "colab_type": "code",
        "colab": {},
        "outputId": "dc7b3057-349d-4022-c0cf-abf4a5741108"
      },
      "source": [
        "# NORMAL SOLUTION:\n",
        "\n"
      ],
      "execution_count": 0,
      "outputs": [
        {
          "output_type": "stream",
          "text": [
            "A DET det a\n",
            "man NOUN nsubj man\n",
            "stood VERB ROOT stand\n",
            "upon ADP prep upon\n",
            "a DET det a\n",
            "railroad NOUN compound railroad\n",
            "bridge NOUN pobj bridge\n",
            "in ADP prep in\n",
            "northern ADJ amod northern\n",
            "Alabama PROPN pobj alabama\n",
            ", PUNCT punct ,\n",
            "looking VERB advcl look\n",
            "down PART prt down\n",
            "\n",
            " SPACE  \n",
            "\n",
            "into ADP prep into\n",
            "the DET det the\n",
            "swift ADJ amod swift\n",
            "water NOUN pobj water\n",
            "twenty NUM nummod twenty\n",
            "feet NOUN npadvmod foot\n",
            "below ADV advmod below\n",
            ". PUNCT punct .\n",
            "  SPACE   \n"
          ],
          "name": "stdout"
        }
      ]
    },
    {
      "cell_type": "code",
      "metadata": {
        "id": "56ktGPDvLi1F",
        "colab_type": "code",
        "colab": {},
        "outputId": "ba0dc3fe-699c-40c0-f4a0-b48a0fc93c64"
      },
      "source": [
        "# CHALLENGE SOLUTION:\n",
        "\n"
      ],
      "execution_count": 0,
      "outputs": [
        {
          "output_type": "stream",
          "text": [
            "A               DET   det        a              \n",
            "man             NOUN  nsubj      man            \n",
            "stood           VERB  ROOT       stand          \n",
            "upon            ADP   prep       upon           \n",
            "a               DET   det        a              \n",
            "railroad        NOUN  compound   railroad       \n",
            "bridge          NOUN  pobj       bridge         \n",
            "in              ADP   prep       in             \n",
            "northern        ADJ   amod       northern       \n",
            "Alabama         PROPN pobj       alabama        \n",
            ",               PUNCT punct      ,              \n",
            "looking         VERB  advcl      look           \n",
            "down            PART  prt        down           \n",
            "\n",
            "               SPACE            \n",
            "              \n",
            "into            ADP   prep       into           \n",
            "the             DET   det        the            \n",
            "swift           ADJ   amod       swift          \n",
            "water           NOUN  pobj       water          \n",
            "twenty          NUM   nummod     twenty         \n",
            "feet            NOUN  npadvmod   foot           \n",
            "below           ADV   advmod     below          \n",
            ".               PUNCT punct      .              \n",
            "                SPACE                           \n"
          ],
          "name": "stdout"
        }
      ]
    },
    {
      "cell_type": "markdown",
      "metadata": {
        "id": "0oVgv-erLi1J",
        "colab_type": "text"
      },
      "source": [
        "**6. Write a matcher called 'Swimming' that finds both occurrences of the phrase \"swimming vigorously\" in the text**<br>\n",
        "HINT: You should include an `'IS_SPACE': True` pattern between the two words!"
      ]
    },
    {
      "cell_type": "code",
      "metadata": {
        "id": "rTIrJq5cLi1K",
        "colab_type": "code",
        "colab": {}
      },
      "source": [
        "# Import the Matcher library:\n",
        "\n",
        "from spacy.matcher import Matcher\n",
        "matcher = Matcher(nlp.vocab)"
      ],
      "execution_count": 0,
      "outputs": []
    },
    {
      "cell_type": "code",
      "metadata": {
        "id": "s1EWvzgZLi1N",
        "colab_type": "code",
        "colab": {}
      },
      "source": [
        "# Create a pattern and add it to matcher:\n",
        "\n",
        "\n",
        "\n"
      ],
      "execution_count": 0,
      "outputs": []
    },
    {
      "cell_type": "code",
      "metadata": {
        "id": "cAYAIFDFLi1R",
        "colab_type": "code",
        "colab": {},
        "outputId": "fb2f5a2a-b060-4dce-9179-68e985ecccac"
      },
      "source": [
        "# Create a list of matches called \"found_matches\" and print the list:\n",
        "\n",
        "\n"
      ],
      "execution_count": 0,
      "outputs": [
        {
          "output_type": "stream",
          "text": [
            "[(12881893835109366681, 1274, 1277), (12881893835109366681, 3607, 3610)]\n"
          ],
          "name": "stdout"
        }
      ]
    },
    {
      "cell_type": "markdown",
      "metadata": {
        "id": "ZvbhtJv5Li1U",
        "colab_type": "text"
      },
      "source": [
        "**7. Print the text surrounding each found match**"
      ]
    },
    {
      "cell_type": "code",
      "metadata": {
        "id": "H5ukaaI9Li1V",
        "colab_type": "code",
        "colab": {},
        "outputId": "a845eb91-5a10-4040-8940-a3cdb85b0296"
      },
      "source": [
        ""
      ],
      "execution_count": 0,
      "outputs": [
        {
          "output_type": "stream",
          "text": [
            "By diving I could evade the bullets and, swimming\n",
            "vigorously, reach the bank, take to the woods and get away home\n"
          ],
          "name": "stdout"
        }
      ]
    },
    {
      "cell_type": "code",
      "metadata": {
        "id": "3L6HtA75Li1a",
        "colab_type": "code",
        "colab": {},
        "outputId": "a24c577a-941b-4f39-98fc-164878d1dad9"
      },
      "source": [
        ""
      ],
      "execution_count": 0,
      "outputs": [
        {
          "output_type": "stream",
          "text": [
            "over his shoulder; he was now swimming\n",
            "vigorously with the current.  \n"
          ],
          "name": "stdout"
        }
      ]
    },
    {
      "cell_type": "markdown",
      "metadata": {
        "id": "k9aqZROOLi1d",
        "colab_type": "text"
      },
      "source": [
        "**EXTRA CREDIT:<br>Print the *sentence* that contains each found match**"
      ]
    },
    {
      "cell_type": "code",
      "metadata": {
        "id": "RfuEytIPLi1e",
        "colab_type": "code",
        "colab": {},
        "outputId": "cea127af-40d3-428e-b972-ead9cdf1e0e7"
      },
      "source": [
        "\n",
        "\n",
        "\n"
      ],
      "execution_count": 0,
      "outputs": [
        {
          "output_type": "stream",
          "text": [
            "By diving I could evade the bullets and, swimming\n",
            "vigorously, reach the bank, take to the woods and get away home.  \n"
          ],
          "name": "stdout"
        }
      ]
    },
    {
      "cell_type": "code",
      "metadata": {
        "id": "lM0Tqu0GLi1k",
        "colab_type": "code",
        "colab": {},
        "outputId": "2663bf81-fa12-46c0-a6ed-ccfa71f04c97"
      },
      "source": [
        "\n",
        "\n",
        "\n"
      ],
      "execution_count": 0,
      "outputs": [
        {
          "output_type": "stream",
          "text": [
            "The hunted man saw all this over his shoulder; he was now swimming\n",
            "vigorously with the current.  \n"
          ],
          "name": "stdout"
        }
      ]
    },
    {
      "cell_type": "markdown",
      "metadata": {
        "id": "pXMVyqcfLi1n",
        "colab_type": "text"
      },
      "source": [
        "### Great Job!"
      ]
    }
  ]
}