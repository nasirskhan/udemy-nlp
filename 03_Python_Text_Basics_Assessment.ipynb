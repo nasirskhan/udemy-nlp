{
  "nbformat": 4,
  "nbformat_minor": 0,
  "metadata": {
    "kernelspec": {
      "display_name": "Python 3",
      "language": "python",
      "name": "python3"
    },
    "language_info": {
      "codemirror_mode": {
        "name": "ipython",
        "version": 3
      },
      "file_extension": ".py",
      "mimetype": "text/x-python",
      "name": "python",
      "nbconvert_exporter": "python",
      "pygments_lexer": "ipython3",
      "version": "3.6.2"
    },
    "colab": {
      "name": "03-Python-Text-Basics-Assessment.ipynb",
      "provenance": [],
      "include_colab_link": true
    }
  },
  "cells": [
    {
      "cell_type": "markdown",
      "metadata": {
        "id": "view-in-github",
        "colab_type": "text"
      },
      "source": [
        "<a href=\"https://colab.research.google.com/github/nasirskhan/udemy-nlp/blob/master/03_Python_Text_Basics_Assessment.ipynb\" target=\"_parent\"><img src=\"https://colab.research.google.com/assets/colab-badge.svg\" alt=\"Open In Colab\"/></a>"
      ]
    },
    {
      "cell_type": "markdown",
      "metadata": {
        "id": "Kd9sL8ak5dmC",
        "colab_type": "text"
      },
      "source": [
        "___\n",
        "\n",
        "<a href='http://www.pieriandata.com'> <img src='../Pierian_Data_Logo.png' /></a>\n",
        "___"
      ]
    },
    {
      "cell_type": "markdown",
      "metadata": {
        "collapsed": true,
        "id": "ezehEY125dmF",
        "colab_type": "text"
      },
      "source": [
        "# Python Text Basics Assessment\n",
        "\n",
        "Welcome to your assessment! Complete the tasks described in bold below by typing the relevant code in the cells.<br>\n",
        "You can compare your answers to the Solutions notebook provided in this folder."
      ]
    },
    {
      "cell_type": "markdown",
      "metadata": {
        "id": "aPlzClZA5dmH",
        "colab_type": "text"
      },
      "source": [
        "## f-Strings\n",
        "#### 1. Print an f-string that displays `NLP stands for Natural Language Processing` using the variables provided."
      ]
    },
    {
      "cell_type": "code",
      "metadata": {
        "id": "AdPYAikN5dmI",
        "colab_type": "code",
        "colab": {},
        "outputId": "0e17cba1-8b5e-4f43-b911-2ef265d22c83"
      },
      "source": [
        "abbr = 'NLP'\n",
        "full_text = 'Natural Language Processing'\n",
        "\n",
        "# Enter your code here:\n"
      ],
      "execution_count": 0,
      "outputs": [
        {
          "output_type": "stream",
          "text": [
            "NLP stands for Natural Language Processing\n"
          ],
          "name": "stdout"
        }
      ]
    },
    {
      "cell_type": "markdown",
      "metadata": {
        "id": "wRF5-Vcf5dmO",
        "colab_type": "text"
      },
      "source": [
        "## Files\n",
        "#### 2. Create a file in the current working directory called `contacts.txt` by running the cell below:"
      ]
    },
    {
      "cell_type": "code",
      "metadata": {
        "id": "loM4kuvw5dmP",
        "colab_type": "code",
        "colab": {},
        "outputId": "84cbd949-a898-40f9-81bf-28ee02351f2f"
      },
      "source": [
        "%%writefile contacts.txt\n",
        "First_Name Last_Name, Title, Extension, Email"
      ],
      "execution_count": 0,
      "outputs": [
        {
          "output_type": "stream",
          "text": [
            "Overwriting contacts.txt\n"
          ],
          "name": "stdout"
        }
      ]
    },
    {
      "cell_type": "markdown",
      "metadata": {
        "id": "Z-Otnw-U5dmT",
        "colab_type": "text"
      },
      "source": [
        "#### 3. Open the file and use .read() to save the contents of the file to a string called `fields`.  Make sure the file is closed at the end."
      ]
    },
    {
      "cell_type": "code",
      "metadata": {
        "id": "-r2KhSz_5dmX",
        "colab_type": "code",
        "colab": {},
        "outputId": "f0f3692b-7696-43f5-8082-8e05b45c9545"
      },
      "source": [
        "# Write your code here:\n",
        "\n",
        "\n",
        "\n",
        "    \n",
        "# Run fields to see the contents of contacts.txt:\n",
        "fields"
      ],
      "execution_count": 0,
      "outputs": [
        {
          "output_type": "execute_result",
          "data": {
            "text/plain": [
              "'First_Name Last_Name, Title, Extension, Email'"
            ]
          },
          "metadata": {
            "tags": []
          },
          "execution_count": 3
        }
      ]
    },
    {
      "cell_type": "markdown",
      "metadata": {
        "id": "KbpOnXbF5dmb",
        "colab_type": "text"
      },
      "source": [
        "## Working with PDF Files\n",
        "#### 4. Use PyPDF2 to open the file `Business_Proposal.pdf`. Extract the text of page 2."
      ]
    },
    {
      "cell_type": "code",
      "metadata": {
        "id": "BXFZADzg5dmc",
        "colab_type": "code",
        "colab": {},
        "outputId": "a24c5c90-e9e7-42b3-d5be-fc5da563a98f"
      },
      "source": [
        "# Perform import\n",
        "\n",
        "\n",
        "# Open the file as a binary object\n",
        "\n",
        "\n",
        "# Use PyPDF2 to read the text of the file\n",
        "\n",
        "\n",
        "\n",
        "# Get the text from page 2 (CHALLENGE: Do this in one step!)\n",
        "page_two_text = \n",
        "\n",
        "\n",
        "\n",
        "# Close the file\n",
        "\n",
        "\n",
        "# Print the contents of page_two_text\n",
        "print(page_two_text)"
      ],
      "execution_count": 0,
      "outputs": [
        {
          "output_type": "stream",
          "text": [
            "AUTHORS:\n",
            " \n",
            "Amy Baker, Finance Chair, x345, abaker@ourcompany.com\n",
            " \n",
            "Chris Donaldson, Accounting Dir., x621, cdonaldson@ourcompany.com\n",
            " \n",
            "Erin Freeman, Sr. VP, x879, efreeman@ourcompany.com\n",
            " \n",
            "\n"
          ],
          "name": "stdout"
        }
      ]
    },
    {
      "cell_type": "markdown",
      "metadata": {
        "id": "48S20roe5dmh",
        "colab_type": "text"
      },
      "source": [
        "#### 5. Open the file `contacts.txt` in append mode. Add the text of page 2 from above to `contacts.txt`.\n",
        "\n",
        "#### CHALLENGE: See if you can remove the word \"AUTHORS:\""
      ]
    },
    {
      "cell_type": "code",
      "metadata": {
        "id": "VzP8YaDa5dmi",
        "colab_type": "code",
        "colab": {},
        "outputId": "0c3bd3b0-e1bf-41b8-9a0f-f4947b539df0"
      },
      "source": [
        "# Simple Solution:\n",
        "\n",
        "\n",
        "\n"
      ],
      "execution_count": 0,
      "outputs": [
        {
          "output_type": "stream",
          "text": [
            "First_Name Last_Name, Title, Extension, EmailAUTHORS:\n",
            " \n",
            "Amy Baker, Finance Chair, x345, abaker@ourcompany.com\n",
            " \n",
            "Chris Donaldson, Accounting Dir., x621, cdonaldson@ourcompany.com\n",
            " \n",
            "Erin Freeman, Sr. VP, x879, efreeman@ourcompany.com\n",
            " \n",
            "\n"
          ],
          "name": "stdout"
        }
      ]
    },
    {
      "cell_type": "code",
      "metadata": {
        "id": "q2KPYO-k5dmm",
        "colab_type": "code",
        "colab": {},
        "outputId": "610755a9-78d0-4ae9-e5ef-b9a275fdf94b"
      },
      "source": [
        "# CHALLENGE Solution (re-run the %%writefile cell above to obtain an unmodified contacts.txt file):\n",
        "\n",
        "\n",
        "\n"
      ],
      "execution_count": 0,
      "outputs": [
        {
          "output_type": "stream",
          "text": [
            "First_Name Last_Name, Title, Extension, Email\n",
            " \n",
            "Amy Baker, Finance Chair, x345, abaker@ourcompany.com\n",
            " \n",
            "Chris Donaldson, Accounting Dir., x621, cdonaldson@ourcompany.com\n",
            " \n",
            "Erin Freeman, Sr. VP, x879, efreeman@ourcompany.com\n",
            " \n",
            "\n"
          ],
          "name": "stdout"
        }
      ]
    },
    {
      "cell_type": "markdown",
      "metadata": {
        "id": "vNTZB77k5dmp",
        "colab_type": "text"
      },
      "source": [
        "## Regular Expressions\n",
        "#### 6. Using the `page_two_text` variable created above, extract any email addresses that were contained in the file `Business_Proposal.pdf`."
      ]
    },
    {
      "cell_type": "code",
      "metadata": {
        "id": "HdXOZ_yZ5dmq",
        "colab_type": "code",
        "colab": {},
        "outputId": "9c04556b-3d62-406a-c825-7552a96b4f08"
      },
      "source": [
        "import re\n",
        "\n",
        "# Enter your regex pattern here. This may take several tries!\n",
        "pattern = \n",
        "\n",
        "re.findall(pattern, page_two_text)"
      ],
      "execution_count": 0,
      "outputs": [
        {
          "output_type": "execute_result",
          "data": {
            "text/plain": [
              "['abaker@ourcompany.com',\n",
              " 'cdonaldson@ourcompany.com',\n",
              " 'efreeman@ourcompany.com']"
            ]
          },
          "metadata": {
            "tags": []
          },
          "execution_count": 8
        }
      ]
    },
    {
      "cell_type": "markdown",
      "metadata": {
        "id": "-vCAUc865dmu",
        "colab_type": "text"
      },
      "source": [
        "### Great job!"
      ]
    }
  ]
}